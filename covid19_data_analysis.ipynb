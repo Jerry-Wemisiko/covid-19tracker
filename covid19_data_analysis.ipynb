{
 "cells": [
  {
   "cell_type": "markdown",
   "id": "a08f79bc",
   "metadata": {},
   "source": [
    "# 🌍 COVID-19 Global Data Tracker\n",
    "\n",
    "This notebook explores and visualizes global COVID-19 trends using data from **Our World in Data**.  \n",
    "It covers:\n",
    "\n",
    "- Global and country-level case and death statistics\n",
    "- Vaccination rollouts\n",
    "- Comparative metrics\n",
    "- Insights and visualizations\n"
   ]
  },
  {
   "cell_type": "code",
   "execution_count": null,
   "id": "34748429",
   "metadata": {
    "vscode": {
     "languageId": "plaintext"
    }
   },
   "outputs": [],
   "source": [
    "import pandas as pd\n",
    "import numpy as np\n",
    "import matplotlib.pyplot as plt\n",
    "import seaborn as sns\n",
    "import plotly.express as px\n",
    "\n",
    "# For better plot aesthetics\n",
    "sns.set(style=\"darkgrid\")\n",
    "%matplotlib inline\n"
   ]
  },
  {
   "cell_type": "code",
   "execution_count": null,
   "id": "7328f885",
   "metadata": {
    "vscode": {
     "languageId": "plaintext"
    }
   },
   "outputs": [],
   "source": [
    "# Load the CSV dataset\n",
    "df = pd.read_csv('owid-covid-data.csv')\n",
    "\n",
    "# Preview data\n",
    "df.head()\n"
   ]
  },
  {
   "cell_type": "code",
   "execution_count": null,
   "id": "62ed96fd",
   "metadata": {
    "vscode": {
     "languageId": "plaintext"
    }
   },
   "outputs": [],
   "source": [
    "# Check columns\n",
    "print(df.columns)\n",
    "\n",
    "# Check for missing values\n",
    "df.isnull().sum()\n",
    "\n",
    "# Basic info and datatypes\n",
    "df.info()\n",
    "\n",
    "# Preview dates and locations\n",
    "print(df['date'].min(), df['date'].max())\n",
    "print(df['location'].unique()[:10])  # first 10 countries/regions\n"
   ]
  },
  {
   "cell_type": "code",
   "execution_count": null,
   "id": "8b5a4251",
   "metadata": {
    "vscode": {
     "languageId": "plaintext"
    }
   },
   "outputs": [],
   "source": [
    "# Convert date column to datetime\n",
    "df['date'] = pd.to_datetime(df['date'])\n",
    "\n",
    "# Filter for selected countries\n",
    "countries = ['Kenya', 'United States', 'India']\n",
    "df_filtered = df[df['location'].isin(countries)].copy()\n",
    "\n",
    "# Drop rows with missing critical values (e.g., total_cases or date)\n",
    "df_filtered = df_filtered.dropna(subset=['total_cases', 'date'])\n",
    "\n",
    "# Fill missing values in numeric columns using forward fill (for timeseries continuity)\n",
    "df_filtered[['total_cases', 'total_deaths', 'new_cases', 'new_deaths', 'total_vaccinations']] = \\\n",
    "    df_filtered[['total_cases', 'total_deaths', 'new_cases', 'new_deaths', 'total_vaccinations']].fillna(method='ffill')\n",
    "\n",
    "df_filtered.head()\n"
   ]
  },
  {
   "cell_type": "code",
   "execution_count": null,
   "id": "2faa6940",
   "metadata": {
    "vscode": {
     "languageId": "plaintext"
    }
   },
   "outputs": [],
   "source": [
    "# Plot total cases over time for each country\n",
    "plt.figure(figsize=(12,6))\n",
    "for country in countries:\n",
    "    subset = df_filtered[df_filtered['location'] == country]\n",
    "    plt.plot(subset['date'], subset['total_cases'], label=country)\n",
    "plt.title('Total COVID-19 Cases Over Time')\n",
    "plt.xlabel('Date')\n",
    "plt.ylabel('Total Cases')\n",
    "plt.legend()\n",
    "plt.show()\n"
   ]
  },
  {
   "cell_type": "code",
   "execution_count": null,
   "id": "8f76adaf",
   "metadata": {
    "vscode": {
     "languageId": "plaintext"
    }
   },
   "outputs": [],
   "source": [
    "# Plot total deaths over time for each country\n",
    "plt.figure(figsize=(12,6))\n",
    "for country in countries:\n",
    "    subset = df_filtered[df_filtered['location'] == country]\n",
    "    plt.plot(subset['date'], subset['total_deaths'], label=country)\n",
    "plt.title('Total COVID-19 Deaths Over Time')\n",
    "plt.xlabel('Date')\n",
    "plt.ylabel('Total Deaths')\n",
    "plt.legend()\n",
    "plt.show()\n"
   ]
  },
  {
   "cell_type": "code",
   "execution_count": null,
   "id": "5f2617a7",
   "metadata": {
    "vscode": {
     "languageId": "plaintext"
    }
   },
   "outputs": [],
   "source": [
    "# Compare daily new cases between countries\n",
    "plt.figure(figsize=(12,6))\n",
    "for country in countries:\n",
    "    subset = df_filtered[df_filtered['location'] == country]\n",
    "    plt.plot(subset['date'], subset['new_cases'], label=country)\n",
    "plt.title('Daily New COVID-19 Cases')\n",
    "plt.xlabel('Date')\n",
    "plt.ylabel('New Cases')\n",
    "plt.legend()\n",
    "plt.show()\n"
   ]
  },
  {
   "cell_type": "code",
   "execution_count": null,
   "id": "8af0de27",
   "metadata": {
    "vscode": {
     "languageId": "plaintext"
    }
   },
   "outputs": [],
   "source": [
    "# Calculate death rate and add as new column\n",
    "df_filtered['death_rate'] = df_filtered['total_deaths'] / df_filtered['total_cases']\n",
    "\n",
    "# Plot death rate over time\n",
    "plt.figure(figsize=(12,6))\n",
    "for country in countries:\n",
    "    subset = df_filtered[df_filtered['location'] == country]\n",
    "    plt.plot(subset['date'], subset['death_rate'], label=country)\n",
    "plt.title('COVID-19 Death Rate Over Time')\n",
    "plt.xlabel('Date')\n",
    "plt.ylabel('Death Rate')\n",
    "plt.legend()\n",
    "plt.show()\n"
   ]
  },
  {
   "cell_type": "code",
   "execution_count": null,
   "id": "4ddd3dc3",
   "metadata": {
    "vscode": {
     "languageId": "plaintext"
    }
   },
   "outputs": [],
   "source": [
    "plt.figure(figsize=(12,6))\n",
    "for country in countries:\n",
    "    subset = df_filtered[df_filtered['location'] == country]\n",
    "    plt.plot(subset['date'], subset['total_vaccinations'], label=country)\n",
    "plt.title('Total Vaccinations Over Time')\n",
    "plt.xlabel('Date')\n",
    "plt.ylabel('Total Vaccinations')\n",
    "plt.legend()\n",
    "plt.show()\n"
   ]
  },
  {
   "cell_type": "code",
   "execution_count": null,
   "id": "06676ee3",
   "metadata": {
    "vscode": {
     "languageId": "plaintext"
    }
   },
   "outputs": [],
   "source": [
    "# Get latest data (max date) per country\n",
    "latest_date = df['date'].max()\n",
    "latest_df = df[df['date'] == latest_date]\n",
    "\n",
    "# Select relevant columns for plotting\n",
    "map_df = latest_df[['iso_code', 'location', 'total_cases', 'total_vaccinations']].dropna()\n",
    "\n",
    "# Plot choropleth map of total cases\n",
    "fig = px.choropleth(\n",
    "    map_df,\n",
    "    locations=\"iso_code\",\n",
    "    color=\"total_cases\",\n",
    "    hover_name=\"location\",\n",
    "    color_continuous_scale=px.colors.sequential.Plasma,\n",
    "    title=f\"Total COVID-19 Cases by Country as of {latest_date.strftime('%Y-%m-%d')}\"\n",
    ")\n",
    "fig.show()\n"
   ]
  }
 ],
 "metadata": {
  "language_info": {
   "name": "python"
  }
 },
 "nbformat": 4,
 "nbformat_minor": 5
}
